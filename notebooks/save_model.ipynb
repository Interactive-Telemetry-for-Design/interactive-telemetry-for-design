{
 "cells": [
  {
   "cell_type": "markdown",
   "metadata": {},
   "source": [
    "# Pickling"
   ]
  },
  {
   "cell_type": "code",
   "execution_count": 18,
   "metadata": {},
   "outputs": [],
   "source": [
    "import numpy as np\n",
    "import pandas as pd\n",
    "from src.sequencing import create_sequence\n",
    "\n",
    "def save_used_data(data, labels, used=None):\n",
    "    \"\"\"\n",
    "    Concatenate data and labels, and optionally append to existing used data.\n",
    "    \n",
    "    Parameters:\n",
    "    -----------\n",
    "    data : ndarray\n",
    "        Input data array of shape (n, m, 6)\n",
    "    labels : ndarray\n",
    "        Labels array of shape (n, m, k)\n",
    "    used : ndarray, optional\n",
    "        Previously used data array of shape (n, m, 6+l)\n",
    "    \n",
    "    Returns:\n",
    "    --------\n",
    "    ndarray\n",
    "        Concatenated data array of shape (2n, m, 6+k) or (n, m, 6+k)\n",
    "    \"\"\"\n",
    "    # Concatenate data and labels along the last axis\n",
    "    combined_data = np.concatenate([data, labels], axis=2)\n",
    "    \n",
    "    # If no used data provided, return the combined data\n",
    "    if used is None:\n",
    "        return combined_data\n",
    "    \n",
    "    # Ensure labels dimension matches used data\n",
    "    k = labels.shape[2]\n",
    "    l = used.shape[2] - 6\n",
    "    \n",
    "    # Pad used data with zeros if needed\n",
    "    if k != l:\n",
    "        zero_pad = np.zeros((*used.shape[:2], k-l), dtype=used.dtype)\n",
    "        used = np.concatenate([used, zero_pad], axis=2)\n",
    "    \n",
    "    # Concatenate used data vertically with combined data\n",
    "    return np.concatenate([used, combined_data], axis=0)\n"
   ]
  },
  {
   "cell_type": "code",
   "execution_count": 22,
   "metadata": {},
   "outputs": [
    {
     "name": "stderr",
     "output_type": "stream",
     "text": [
      "<>:1: SyntaxWarning: invalid escape sequence '\\p'\n",
      "<>:1: SyntaxWarning: invalid escape sequence '\\p'\n",
      "C:\\Users\\axelv\\AppData\\Local\\Temp\\ipykernel_12116\\1988130870.py:1: SyntaxWarning: invalid escape sequence '\\p'\n",
      "  df = pd.read_csv('C:\\projects\\interactive-telemetry-for-design\\data\\GH010041_IMU.csv')\n"
     ]
    }
   ],
   "source": []
  },
  {
   "cell_type": "markdown",
   "metadata": {},
   "source": [
    "testing"
   ]
  },
  {
   "cell_type": "code",
   "execution_count": null,
   "metadata": {},
   "outputs": [
    {
     "name": "stderr",
     "output_type": "stream",
     "text": [
      "<>:1: SyntaxWarning: invalid escape sequence '\\p'\n",
      "<>:1: SyntaxWarning: invalid escape sequence '\\p'\n",
      "C:\\Users\\axelv\\AppData\\Local\\Temp\\ipykernel_12116\\2971073801.py:1: SyntaxWarning: invalid escape sequence '\\p'\n",
      "  df = pd.read_csv('C:\\projects\\interactive-telemetry-for-design\\data\\GH010041_IMU.csv')\n"
     ]
    },
    {
     "name": "stdout",
     "output_type": "stream",
     "text": [
      "(54, 1969, 11)\n",
      "(108, 1969, 11)\n",
      "(108, 1969, 12)\n",
      "[  0.           0.           0.           0.           0.\n",
      "   0.           0.           0.           0.           0.\n",
      "   0.           0.           0.           0.           0.\n",
      "   0.           0.           0.           0.           0.\n",
      "   0.           0.           0.           0.           0.\n",
      "   0.           0.           0.           0.           0.\n",
      "   0.           0.           0.           0.           0.\n",
      "   0.           0.           0.           0.           0.\n",
      "   0.           0.           0.           0.           0.\n",
      "   0.           0.           0.           0.           0.\n",
      "   0.           0.           0.           0.          -3.3559828\n",
      "  -2.3796968    6.956037   -38.9294      -6.040769   -27.274988\n",
      " -23.308826   -11.044234   -13.790038    -2.1356254   -3.1729293\n",
      "  30.753006   -18.122307     2.4407148   -7.078073    35.5124\n",
      " -10.86118     18.427397    17.634165    18.30536    -15.803628\n",
      "   7.3221445    4.210233    19.4647       9.274716     3.1119113\n",
      " -18.488415    14.278181     9.640823    15.376503     2.806822\n",
      "   3.1119113   14.217164    14.949378    12.02052    -14.827342\n",
      " -17.573147    24.04104    -10.00693      0.91526806   8.725555\n",
      "  18.671469     0.7932323  -68.950195    21.905415   -13.790038\n",
      "  -9.091662    23.73595      3.6610723   -8.481483    13.545967\n",
      "   7.2611265  -36.122578     3.8441257 ]\n"
     ]
    }
   ],
   "source": [
    "df = pd.read_csv('C:\\projects\\interactive-telemetry-for-design\\data\\GH010041_IMU.csv')\n",
    "df = create_sequence(df, 0, 10)\n",
    "data = df[:,:, 1:7]\n",
    "labels = df[:,:,2:]\n",
    "labels2 = df[:,:,1:]\n",
    "labels3 = df[:,:,:]\n",
    "\n",
    "t1= save_used_data(data, labels)\n",
    "print(t1.shape)\n",
    "t2 = save_used_data(data, labels, t1)\n",
    "print(t2.shape)\n",
    "t2a = save_used_data(data, labels2, t1)\n",
    "print(t2a.shape)\n"
   ]
  },
  {
   "cell_type": "code",
   "execution_count": 3,
   "metadata": {},
   "outputs": [
    {
     "ename": "NameError",
     "evalue": "name 'load_multiple_dataframes' is not defined",
     "output_type": "error",
     "traceback": [
      "\u001b[1;31m---------------------------------------------------------------------------\u001b[0m",
      "\u001b[1;31mNameError\u001b[0m                                 Traceback (most recent call last)",
      "Cell \u001b[1;32mIn[3], line 3\u001b[0m\n\u001b[0;32m      1\u001b[0m \u001b[38;5;66;03m# load_dataframe('pickled_bytestream/imu_data.pkl')\u001b[39;00m\n\u001b[1;32m----> 3\u001b[0m \u001b[43mload_multiple_dataframes\u001b[49m(\u001b[38;5;124m'\u001b[39m\u001b[38;5;124mpickled_bytestream\u001b[39m\u001b[38;5;124m'\u001b[39m)\n",
      "\u001b[1;31mNameError\u001b[0m: name 'load_multiple_dataframes' is not defined"
     ]
    }
   ],
   "source": [
    "# load_dataframe('pickled_bytestream/imu_data.pkl')\n",
    "\n",
    "load_multiple_dataframes('pickled_bytestream')"
   ]
  },
  {
   "cell_type": "code",
   "execution_count": null,
   "metadata": {},
   "outputs": [],
   "source": []
  }
 ],
 "metadata": {
  "kernelspec": {
   "display_name": ".venv",
   "language": "python",
   "name": "python3"
  },
  "language_info": {
   "codemirror_mode": {
    "name": "ipython",
    "version": 3
   },
   "file_extension": ".py",
   "mimetype": "text/x-python",
   "name": "python",
   "nbconvert_exporter": "python",
   "pygments_lexer": "ipython3",
   "version": "3.12.8"
  }
 },
 "nbformat": 4,
 "nbformat_minor": 2
}
