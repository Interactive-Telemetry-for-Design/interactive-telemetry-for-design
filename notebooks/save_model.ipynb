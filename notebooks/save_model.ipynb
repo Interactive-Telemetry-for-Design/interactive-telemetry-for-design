{
 "cells": [
  {
   "cell_type": "markdown",
   "metadata": {},
   "source": [
    "# Pickling"
   ]
  },
  {
   "cell_type": "code",
   "execution_count": 1,
   "metadata": {},
   "outputs": [],
   "source": [
    "import pickle\n",
    "import os\n",
    "from pathlib import Path\n",
    "import pandas as pd\n",
    "\n",
    "# Function to save a single dataframe using Pickle\n",
    "def save_dataframe(dataframe, filename):\n",
    "    \"\"\"\n",
    "    Arguments:\n",
    "    - dataframe: The pandas DataFrame to save.\n",
    "    - filename: The file path (including name) where the DataFrame will be stored.\n",
    "    \"\"\"\n",
    "    with open(filename, 'wb') as file:\n",
    "        pickle.dump(dataframe, file)  # Serialize \n",
    "        print(f\"DataFrame saved to {filename}\")\n",
    "\n",
    "# Function to save multiple dataframes iteratively\n",
    "def save_multiple_dataframes(dataframes, save_directory):\n",
    "    \"\"\"\n",
    "    Arguments:\n",
    "    - dataframes: A list of pandas DataFrames to save.\n",
    "    - save_directory: Directory path to store the pickle files.\n",
    "    \"\"\"\n",
    "    # Ensure the directory exists\n",
    "    if not os.path.exists(save_directory):\n",
    "        os.makedirs(save_directory)\n",
    "    \n",
    "    # Iterate through the list of DataFrames\n",
    "    for i, df in enumerate(dataframes):\n",
    "        filename = os.path.join(save_directory, f\"dataframe_{i + 1}.pkl\")\n",
    "        save_dataframe(df, filename)\n",
    "\n",
    "# Function to load a single dataframe from a pickle file\n",
    "def load_dataframe(filename):\n",
    "    \"\"\"\n",
    "    Arguments:\n",
    "    - filename: The file path (including name) to load the DataFrame from.\n",
    "    Returns:\n",
    "    - dataframe: The pandas DataFrame loaded from the pickle file.\n",
    "    \"\"\"\n",
    "    with open(filename, 'rb') as file:\n",
    "        dataframe = pickle.load(file)  # Deserialize the DataFrame from the pickle file\n",
    "        print(f\"DataFrame loaded from {filename}\")\n",
    "        return dataframe\n",
    "\n",
    "# Function to load multiple dataframes from pickle files in a directory\n",
    "def load_multiple_dataframes(save_directory):\n",
    "    \"\"\"\n",
    "    Arguments:\n",
    "    - save_directory: Directory path where pickle files are stored.\n",
    "    Returns:\n",
    "    - dataframes: A list of pandas DataFrames loaded from the pickle files.\n",
    "    \"\"\"\n",
    "    dataframes = []\n",
    "    pickle_files = [f for f in os.listdir(save_directory) if f.endswith('.pkl')]  # List of pickle files\n",
    "    \n",
    "    # Iterate over all pickle files and load them\n",
    "    for pickle_file in pickle_files:\n",
    "        file_path = os.path.join(save_directory, pickle_file)\n",
    "        df = load_dataframe(file_path)\n",
    "        dataframes.append(df)\n",
    "    \n",
    "    return dataframes\n"
   ]
  },
  {
   "cell_type": "markdown",
   "metadata": {},
   "source": [
    "testing"
   ]
  },
  {
   "cell_type": "code",
   "execution_count": 2,
   "metadata": {},
   "outputs": [
    {
     "ename": "NameError",
     "evalue": "name 'extract_imu_data' is not defined",
     "output_type": "error",
     "traceback": [
      "\u001b[1;31m---------------------------------------------------------------------------\u001b[0m",
      "\u001b[1;31mNameError\u001b[0m                                 Traceback (most recent call last)",
      "Cell \u001b[1;32mIn[2], line 1\u001b[0m\n\u001b[1;32m----> 1\u001b[0m df1 \u001b[38;5;241m=\u001b[39m \u001b[43mextract_imu_data\u001b[49m(\u001b[38;5;124m'\u001b[39m\u001b[38;5;124mdata/raf_frames.MP4\u001b[39m\u001b[38;5;124m'\u001b[39m)\n\u001b[0;32m      2\u001b[0m df2 \u001b[38;5;241m=\u001b[39m extract_imu_data(\u001b[38;5;124m'\u001b[39m\u001b[38;5;124mdata/GH010045.MP4\u001b[39m\u001b[38;5;124m'\u001b[39m)\n\u001b[0;32m      3\u001b[0m directory \u001b[38;5;241m=\u001b[39m \u001b[38;5;124m'\u001b[39m\u001b[38;5;124mpickled_bytestream\u001b[39m\u001b[38;5;124m'\u001b[39m\n",
      "\u001b[1;31mNameError\u001b[0m: name 'extract_imu_data' is not defined"
     ]
    }
   ],
   "source": [
    "df1 = extract_imu_data('data/raf_frames.MP4')\n",
    "df2 = extract_imu_data('data/GH010045.MP4')\n",
    "directory = 'pickled_bytestream'\n",
    "\n",
    "dataframes = [df1, df2]\n",
    "\n",
    "# Check if the directory exists, if not create it\n",
    "if not os.path.exists(directory):\n",
    "    os.makedirs(directory)\n",
    "\n",
    "# Now, save the DataFrame to a pickle file inside the directory\n",
    "filename = os.path.join(directory, 'imu_data.pkl')  # Specify the file name with .pkl extension\n",
    "\n",
    "save_dataframe(df1, filename)\n",
    "\n",
    "save_multiple_dataframes(dataframes, directory)"
   ]
  },
  {
   "cell_type": "code",
   "execution_count": 4,
   "metadata": {},
   "outputs": [
    {
     "name": "stdout",
     "output_type": "stream",
     "text": [
      "DataFrame loaded from pickled_bytestream\\dataframe_1.pkl\n",
      "DataFrame loaded from pickled_bytestream\\dataframe_2.pkl\n",
      "DataFrame loaded from pickled_bytestream\\imu_data.pkl\n"
     ]
    },
    {
     "data": {
      "text/plain": [
       "[        TIMESTAMP    ACCL_x    ACCL_y    ACCL_z    GYRO_x    GYRO_y    GYRO_z\n",
       " 0        0.000000  6.345324 -4.844125  5.832134  0.854250  0.061018 -0.793232\n",
       " 1        0.005079  6.235012 -4.424460  5.827338  1.342393 -0.366107 -0.366107\n",
       " 2        0.010158  6.290168 -4.714628  5.743405  1.769518 -0.549161  1.891554\n",
       " 3        0.015237  6.374101 -5.340528  5.750600  1.952572 -0.427125  3.294965\n",
       " 4        0.020316  6.321343 -5.455635  5.834532  2.318679 -0.366107  1.952572\n",
       " ...           ...       ...       ...       ...       ...       ...       ...\n",
       " 29309  148.858689  7.383693 -5.494005  4.038369 -1.342393  0.366107 -1.952572\n",
       " 29310  148.863768  7.369305 -5.323741  3.928058 -1.708500  0.122036 -1.525447\n",
       " 29311  148.868847  7.429257 -5.134293  3.738609 -2.074608 -0.244071 -1.220357\n",
       " 29312  148.873926  7.419664 -5.059952  3.733813 -2.135625  0.061018 -0.976286\n",
       " 29313  148.879005  7.426859 -5.143885  3.798561 -1.769518  0.976286 -0.671197\n",
       " \n",
       " [29314 rows x 7 columns],\n",
       "          TIMESTAMP     ACCL_x     ACCL_y     ACCL_z     GYRO_x     GYRO_y  \\\n",
       " 0         0.000000  10.045564  -1.182254  -0.623501  -0.183054  -1.403411   \n",
       " 1         0.005079   9.237410   2.470024   0.028777   0.061018  -0.671197   \n",
       " 2         0.010159   9.654676   0.930456   0.127098  -0.366107  -1.098322   \n",
       " 3         0.015238  10.402878  -2.237410  -0.851319  -0.976286  -2.257661   \n",
       " 4         0.020318   9.918465  -0.146283  -0.491607  -0.549161  -1.159340   \n",
       " ...            ...        ...        ...        ...        ...        ...   \n",
       " 104637  531.502139   5.441247   3.335731  14.930456  19.281647  34.231025   \n",
       " 104638  531.507219  10.832134  -3.731415  -6.556355  19.525718 -34.170007   \n",
       " 104639  531.512298  22.203837  -3.218225 -14.235012  18.915540 -13.668003   \n",
       " 104640  531.517378  28.057554  10.014388  21.880096  22.820683  88.475911   \n",
       " 104641  531.522457  19.151079  12.990408  45.278177  29.532649  83.289392   \n",
       " \n",
       "            GYRO_z  \n",
       " 0        1.769518  \n",
       " 1       -3.539036  \n",
       " 2        7.017055  \n",
       " 3        9.945913  \n",
       " 4       -0.427125  \n",
       " ...           ...  \n",
       " 104637  20.746076  \n",
       " 104638  20.563022  \n",
       " 104639  -1.037304  \n",
       " 104640 -19.403683  \n",
       " 104641   6.040769  \n",
       " \n",
       " [104642 rows x 7 columns],\n",
       "         TIMESTAMP    ACCL_x    ACCL_y    ACCL_z    GYRO_x    GYRO_y    GYRO_z\n",
       " 0        0.000000  6.345324 -4.844125  5.832134  0.854250  0.061018 -0.793232\n",
       " 1        0.005079  6.235012 -4.424460  5.827338  1.342393 -0.366107 -0.366107\n",
       " 2        0.010158  6.290168 -4.714628  5.743405  1.769518 -0.549161  1.891554\n",
       " 3        0.015237  6.374101 -5.340528  5.750600  1.952572 -0.427125  3.294965\n",
       " 4        0.020316  6.321343 -5.455635  5.834532  2.318679 -0.366107  1.952572\n",
       " ...           ...       ...       ...       ...       ...       ...       ...\n",
       " 29309  148.858689  7.383693 -5.494005  4.038369 -1.342393  0.366107 -1.952572\n",
       " 29310  148.863768  7.369305 -5.323741  3.928058 -1.708500  0.122036 -1.525447\n",
       " 29311  148.868847  7.429257 -5.134293  3.738609 -2.074608 -0.244071 -1.220357\n",
       " 29312  148.873926  7.419664 -5.059952  3.733813 -2.135625  0.061018 -0.976286\n",
       " 29313  148.879005  7.426859 -5.143885  3.798561 -1.769518  0.976286 -0.671197\n",
       " \n",
       " [29314 rows x 7 columns]]"
      ]
     },
     "execution_count": 4,
     "metadata": {},
     "output_type": "execute_result"
    }
   ],
   "source": [
    "# load_dataframe('pickled_bytestream/imu_data.pkl')\n",
    "\n",
    "load_multiple_dataframes('pickled_bytestream')"
   ]
  },
  {
   "cell_type": "code",
   "execution_count": null,
   "metadata": {},
   "outputs": [],
   "source": []
  }
 ],
 "metadata": {
  "kernelspec": {
   "display_name": ".venv",
   "language": "python",
   "name": "python3"
  },
  "language_info": {
   "codemirror_mode": {
    "name": "ipython",
    "version": 3
   },
   "file_extension": ".py",
   "mimetype": "text/x-python",
   "name": "python",
   "nbconvert_exporter": "python",
   "pygments_lexer": "ipython3",
   "version": "3.12.8"
  }
 },
 "nbformat": 4,
 "nbformat_minor": 2
}
