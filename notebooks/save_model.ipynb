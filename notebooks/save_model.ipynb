{
 "cells": [
  {
   "cell_type": "markdown",
   "metadata": {},
   "source": [
    "# Pickling"
   ]
  },
  {
   "cell_type": "code",
   "execution_count": 18,
   "metadata": {},
   "outputs": [],
   "source": [
    "import numpy as np\n",
    "import pandas as pd\n",
    "from src.sequencing import create_sequence\n",
    "\n",
    "def save_used_data(data, labels, used=None):\n",
    "    \"\"\"\n",
    "    Concatenate data and labels, and optionally append to existing used data.\n",
    "    \n",
    "    Parameters:\n",
    "    -----------\n",
    "    data : ndarray\n",
    "        Input data array of shape (n, m, 6)\n",
    "    labels : ndarray\n",
    "        Labels array of shape (n, m, k)\n",
    "    used : ndarray, optional\n",
    "        Previously used data array of shape (n, m, 6+l)\n",
    "    \n",
    "    Returns:\n",
    "    --------\n",
    "    ndarray\n",
    "        Concatenated data array of shape (2n, m, 6+k) or (n, m, 6+k)\n",
    "    \"\"\"\n",
    "    # Concatenate data and labels along the last axis\n",
    "    combined_data = np.concatenate([data, labels], axis=2)\n",
    "    \n",
    "    # If no used data provided, return the combined data\n",
    "    if used is None:\n",
    "        return combined_data\n",
    "    \n",
    "    # Ensure labels dimension matches used data\n",
    "    k = labels.shape[2]\n",
    "    l = used.shape[2] - 6\n",
    "    \n",
    "    # Pad used data with zeros if needed\n",
    "    if k != l:\n",
    "        zero_pad = np.zeros((*used.shape[:2], k-l), dtype=used.dtype)\n",
    "        used = np.concatenate([used, zero_pad], axis=2)\n",
    "    \n",
    "    # Concatenate used data vertically with combined data\n",
    "    return np.concatenate([used, combined_data], axis=0)\n"
   ]
  },
  {
   "cell_type": "code",
   "execution_count": 22,
   "metadata": {},
   "outputs": [
    {
     "name": "stderr",
     "output_type": "stream",
     "text": [
      "<>:1: SyntaxWarning: invalid escape sequence '\\p'\n",
      "<>:1: SyntaxWarning: invalid escape sequence '\\p'\n",
      "C:\\Users\\axelv\\AppData\\Local\\Temp\\ipykernel_12116\\1988130870.py:1: SyntaxWarning: invalid escape sequence '\\p'\n",
      "  df = pd.read_csv('C:\\projects\\interactive-telemetry-for-design\\data\\GH010041_IMU.csv')\n"
     ]
    }
   ],
   "source": []
  },
  {
   "cell_type": "markdown",
   "metadata": {},
   "source": [
    "testing"
   ]
  },
  {
   "cell_type": "code",
   "execution_count": null,
   "execution_count": null,
   "metadata": {},
   "outputs": [],
   "source": [
    "df = pd.read_csv('C:\\projects\\interactive-telemetry-for-design\\data\\GH010041_IMU.csv')\n",
    "df = create_sequence(df, 0, 10)\n",
    "data = df[:,:, 1:7]\n",
    "labels = df[:,:,2:]\n",
    "labels2 = df[:,:,1:]\n",
    "labels3 = df[:,:,:]\n",
    "\n",
    "t1= save_used_data(data, labels)\n",
    "print(t1.shape)\n",
    "t2 = save_used_data(data, labels, t1)\n",
    "print(t2.shape)\n",
    "t2a = save_used_data(data, labels2, t1)\n",
    "print(t2a.shape)\n"
   ]
  },
  {
   "cell_type": "code",
   "execution_count": 4,
   "metadata": {},
   "outputs": [
    {
     "name": "stdout",
     "output_type": "stream",
     "text": [
      "DataFrame loaded from pickled_bytestream\\dataframe_1.pkl\n",
      "DataFrame loaded from pickled_bytestream\\dataframe_2.pkl\n",
      "DataFrame loaded from pickled_bytestream\\imu_data.pkl\n"
     ]
    },
    {
     "data": {
      "text/plain": [
       "[        TIMESTAMP    ACCL_x    ACCL_y    ACCL_z    GYRO_x    GYRO_y    GYRO_z\n",
       " 0        0.000000  6.345324 -4.844125  5.832134  0.854250  0.061018 -0.793232\n",
       " 1        0.005079  6.235012 -4.424460  5.827338  1.342393 -0.366107 -0.366107\n",
       " 2        0.010158  6.290168 -4.714628  5.743405  1.769518 -0.549161  1.891554\n",
       " 3        0.015237  6.374101 -5.340528  5.750600  1.952572 -0.427125  3.294965\n",
       " 4        0.020316  6.321343 -5.455635  5.834532  2.318679 -0.366107  1.952572\n",
       " ...           ...       ...       ...       ...       ...       ...       ...\n",
       " 29309  148.858689  7.383693 -5.494005  4.038369 -1.342393  0.366107 -1.952572\n",
       " 29310  148.863768  7.369305 -5.323741  3.928058 -1.708500  0.122036 -1.525447\n",
       " 29311  148.868847  7.429257 -5.134293  3.738609 -2.074608 -0.244071 -1.220357\n",
       " 29312  148.873926  7.419664 -5.059952  3.733813 -2.135625  0.061018 -0.976286\n",
       " 29313  148.879005  7.426859 -5.143885  3.798561 -1.769518  0.976286 -0.671197\n",
       " \n",
       " [29314 rows x 7 columns],\n",
       "          TIMESTAMP     ACCL_x     ACCL_y     ACCL_z     GYRO_x     GYRO_y  \\\n",
       " 0         0.000000  10.045564  -1.182254  -0.623501  -0.183054  -1.403411   \n",
       " 1         0.005079   9.237410   2.470024   0.028777   0.061018  -0.671197   \n",
       " 2         0.010159   9.654676   0.930456   0.127098  -0.366107  -1.098322   \n",
       " 3         0.015238  10.402878  -2.237410  -0.851319  -0.976286  -2.257661   \n",
       " 4         0.020318   9.918465  -0.146283  -0.491607  -0.549161  -1.159340   \n",
       " ...            ...        ...        ...        ...        ...        ...   \n",
       " 104637  531.502139   5.441247   3.335731  14.930456  19.281647  34.231025   \n",
       " 104638  531.507219  10.832134  -3.731415  -6.556355  19.525718 -34.170007   \n",
       " 104639  531.512298  22.203837  -3.218225 -14.235012  18.915540 -13.668003   \n",
       " 104640  531.517378  28.057554  10.014388  21.880096  22.820683  88.475911   \n",
       " 104641  531.522457  19.151079  12.990408  45.278177  29.532649  83.289392   \n",
       " \n",
       "            GYRO_z  \n",
       " 0        1.769518  \n",
       " 1       -3.539036  \n",
       " 2        7.017055  \n",
       " 3        9.945913  \n",
       " 4       -0.427125  \n",
       " ...           ...  \n",
       " 104637  20.746076  \n",
       " 104638  20.563022  \n",
       " 104639  -1.037304  \n",
       " 104640 -19.403683  \n",
       " 104641   6.040769  \n",
       " \n",
       " [104642 rows x 7 columns],\n",
       "         TIMESTAMP    ACCL_x    ACCL_y    ACCL_z    GYRO_x    GYRO_y    GYRO_z\n",
       " 0        0.000000  6.345324 -4.844125  5.832134  0.854250  0.061018 -0.793232\n",
       " 1        0.005079  6.235012 -4.424460  5.827338  1.342393 -0.366107 -0.366107\n",
       " 2        0.010158  6.290168 -4.714628  5.743405  1.769518 -0.549161  1.891554\n",
       " 3        0.015237  6.374101 -5.340528  5.750600  1.952572 -0.427125  3.294965\n",
       " 4        0.020316  6.321343 -5.455635  5.834532  2.318679 -0.366107  1.952572\n",
       " ...           ...       ...       ...       ...       ...       ...       ...\n",
       " 29309  148.858689  7.383693 -5.494005  4.038369 -1.342393  0.366107 -1.952572\n",
       " 29310  148.863768  7.369305 -5.323741  3.928058 -1.708500  0.122036 -1.525447\n",
       " 29311  148.868847  7.429257 -5.134293  3.738609 -2.074608 -0.244071 -1.220357\n",
       " 29312  148.873926  7.419664 -5.059952  3.733813 -2.135625  0.061018 -0.976286\n",
       " 29313  148.879005  7.426859 -5.143885  3.798561 -1.769518  0.976286 -0.671197\n",
       " \n",
       " [29314 rows x 7 columns]]"
      ]
     },
     "execution_count": 4,
     "metadata": {},
     "output_type": "execute_result"
    }
   ],
   "source": [
    "# load_dataframe('pickled_bytestream/imu_data.pkl')\n",
    "\n",
    "load_multiple_dataframes('pickled_bytestream')"
   ]
  },
  {
   "cell_type": "code",
   "execution_count": null,
   "metadata": {},
   "outputs": [],
   "source": []
  }
 ],
 "metadata": {
  "kernelspec": {
   "display_name": ".venv",
   "language": "python",
   "name": "python3"
  },
  "language_info": {
   "codemirror_mode": {
    "name": "ipython",
    "version": 3
   },
   "file_extension": ".py",
   "mimetype": "text/x-python",
   "name": "python",
   "nbconvert_exporter": "python",
   "pygments_lexer": "ipython3",
   "version": "3.12.8"
  }
 },
 "nbformat": 4,
 "nbformat_minor": 2
}
