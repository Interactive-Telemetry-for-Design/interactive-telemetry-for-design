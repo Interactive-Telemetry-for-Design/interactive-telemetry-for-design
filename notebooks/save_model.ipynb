{
 "cells": [
  {
   "cell_type": "markdown",
   "metadata": {},
   "source": [
    "# Pickling"
   ]
  },
  {
   "cell_type": "code",
   "execution_count": 18,
   "metadata": {},
   "outputs": [],
   "source": [
    "import numpy as np\n",
    "import pandas as pd\n",
    "from src.sequencing import create_sequence\n",
    "\n",
    "def save_used_data(data, labels, used=None):\n",
    "    \"\"\"\n",
    "    Concatenate data and labels, and optionally append to existing used data.\n",
    "    \n",
    "    Parameters:\n",
    "    -----------\n",
    "    data : ndarray\n",
    "        Input data array of shape (n, m, 6)\n",
    "    labels : ndarray\n",
    "        Labels array of shape (n, m, k)\n",
    "    used : ndarray, optional\n",
    "        Previously used data array of shape (n, m, 6+l)\n",
    "    \n",
    "    Returns:\n",
    "    --------\n",
    "    ndarray\n",
    "        Concatenated data array of shape (2n, m, 6+k) or (n, m, 6+k)\n",
    "    \"\"\"\n",
    "    # Concatenate data and labels along the last axis\n",
    "    combined_data = np.concatenate([data, labels], axis=2)\n",
    "    \n",
    "    # If no used data provided, return the combined data\n",
    "    if used is None:\n",
    "        return combined_data\n",
    "    \n",
    "    # Ensure labels dimension matches used data\n",
    "    k = labels.shape[2]\n",
    "    l = used.shape[2] - 6\n",
    "    \n",
    "    # Pad used data with zeros if needed\n",
    "    if k != l:\n",
    "        zero_pad = np.zeros((*used.shape[:2], k-l), dtype=used.dtype)\n",
    "        used = np.concatenate([used, zero_pad], axis=2)\n",
    "    \n",
    "    # Concatenate used data vertically with combined data\n",
    "    return np.concatenate([used, combined_data], axis=0)\n"
   ]
  },
  {
   "cell_type": "code",
   "execution_count": 22,
   "metadata": {},
   "outputs": [
    {
     "name": "stderr",
     "output_type": "stream",
     "text": [
      "<>:1: SyntaxWarning: invalid escape sequence '\\p'\n",
      "<>:1: SyntaxWarning: invalid escape sequence '\\p'\n",
      "C:\\Users\\axelv\\AppData\\Local\\Temp\\ipykernel_12116\\1988130870.py:1: SyntaxWarning: invalid escape sequence '\\p'\n",
      "  df = pd.read_csv('C:\\projects\\interactive-telemetry-for-design\\data\\GH010041_IMU.csv')\n"
     ]
    }
   ],
   "source": []
  },
  {
   "cell_type": "markdown",
   "metadata": {},
   "source": [
    "testing"
   ]
  },
  {
   "cell_type": "code",
   "execution_count": null,
   "execution_count": null,
   "metadata": {},
   "outputs": [],
   "source": [
    "df = pd.read_csv('C:\\projects\\interactive-telemetry-for-design\\data\\GH010041_IMU.csv')\n",
    "df = create_sequence(df, 0, 10)\n",
    "data = df[:,:, 1:7]\n",
    "labels = df[:,:,2:]\n",
    "labels2 = df[:,:,1:]\n",
    "labels3 = df[:,:,:]\n",
    "\n",
    "t1= save_used_data(data, labels)\n",
    "print(t1.shape)\n",
    "t2 = save_used_data(data, labels, t1)\n",
    "print(t2.shape)\n",
    "t2a = save_used_data(data, labels2, t1)\n",
    "print(t2a.shape)\n"
   ]
  },
  {
   "cell_type": "code",
   "execution_count": null,
   "metadata": {},
   "outputs": [],
   "source": [
    "# load_dataframe('pickled_bytestream/imu_data.pkl')\n",
    "\n",
    "load_multiple_dataframes('pickled_bytestream')"
   ]
  },
  {
   "cell_type": "code",
   "execution_count": null,
   "metadata": {},
   "outputs": [],
   "source": []
  }
 ],
 "metadata": {
  "kernelspec": {
   "display_name": ".venv",
   "language": "python",
   "name": "python3"
  },
  "language_info": {
   "codemirror_mode": {
    "name": "ipython",
    "version": 3
   },
   "file_extension": ".py",
   "mimetype": "text/x-python",
   "name": "python",
   "nbconvert_exporter": "python",
   "pygments_lexer": "ipython3",
   "version": "3.12.8"
  }
 },
 "nbformat": 4,
 "nbformat_minor": 2
}
