{
 "cells": [
  {
   "cell_type": "code",
   "execution_count": 1,
   "metadata": {},
   "outputs": [],
   "source": [
    "# IMPORTS\n",
    "\n",
    "\n",
    "import numpy as np\n",
    "import pandas as pd\n",
    "import av"
   ]
  },
  {
   "cell_type": "markdown",
   "metadata": {},
   "source": [
    "### VIDEOFRAME INFO EXTRACTOR"
   ]
  },
  {
   "cell_type": "code",
   "execution_count": null,
   "metadata": {},
   "outputs": [],
   "source": [
    "def frametimes(video_path):\n",
    "\n",
    "    # Open the video file\n",
    "    container = av.open(video_path)\n",
    "\n",
    "    # Get the video stream (usually index 0 for the first video stream)\n",
    "    video_stream = container.streams.video[0]\n",
    "\n",
    "\n",
    "    # Retrieve video info\n",
    "    total_frames = video_stream.frames  # Number of frames\n",
    "    duration_ts = video_stream.duration  # Total duration in time units (PTS)\n",
    "    time_base = video_stream.time_base  # Time base to convert duration_ts to seconds\n",
    "    duration_seconds = float(duration_ts * time_base) # Duration of the video in seconds\n",
    "\n",
    "    # Print the results\n",
    "    print(f\"Total Frames: {total_frames}\")\n",
    "    print(f\"Duration (PTS units): {duration_ts}\")\n",
    "    print(f\"Time Base: {time_base}\")\n",
    "    print(f\"Duration (seconds): {duration_seconds} \\n\")\n",
    "\n",
    "\n",
    "    # Storage for frame intervals\n",
    "    frame_intervals = []\n",
    "\n",
    "\n",
    "    # Decode video frames\n",
    "    for i, frame in enumerate(container.decode(video=0)):\n",
    "        # TODO: If the video stream is corrupted, it could cause infinitely repeated decoding attempts. Might need if check in case it's unstable during testing\n",
    "\n",
    "        # Update frame info\n",
    "        start_time = float(frame.pts * time_base)\n",
    "        frame_intervals.append(start_time)\n",
    "    \n",
    "        if i < 5:\n",
    "            print(f\"Frame {i + 1}: starttime {start_time}, PTS {frame.pts}, DTS {frame.dts}\")\n",
    "\n",
    "    end_time = duration_seconds\n",
    "    frame_intervals.append(end_time)\n",
    "\n",
    "    # print(\"\")\n",
    "    # print(frame_intervals)\n",
    "\n",
    "    return total_frames, frame_intervals"
   ]
  },
  {
   "cell_type": "markdown",
   "metadata": {},
   "source": [
    "### GET IMU DATAFRAME"
   ]
  },
  {
   "cell_type": "code",
   "execution_count": 4,
   "metadata": {},
   "outputs": [],
   "source": [
    "def getIMU(dataframe_path):\n",
    "    # Load the CSV file into a pandas DataFrame\n",
    "    df = pd.read_csv(dataframe_path)\n",
    "\n",
    "\n",
    "    # Display the top and bottom rows\n",
    "    print(\"Top rows:\")\n",
    "    print(df.head())\n",
    "\n",
    "    print(\"\\nBottom rows:\")\n",
    "    print(df.tail())\n",
    "\n",
    "    return df"
   ]
  },
  {
   "cell_type": "markdown",
   "metadata": {},
   "source": [
    "### ADD FRAME_INDEX TO DATAFRAME"
   ]
  },
  {
   "cell_type": "code",
   "execution_count": 5,
   "metadata": {},
   "outputs": [],
   "source": [
    "def add_frame_index(df, total_frames, frame_intervals):\n",
    "\n",
    "    # Make a list of all frame indices\n",
    "    frame_labels = list(range(1, total_frames + 1))\n",
    "\n",
    "    if \"TIMESTAMP\" not in df.columns:\n",
    "        raise ValueError(\"The dataframe must contain a 'TIMESTAMP' column.\")\n",
    "\n",
    "    # Match FRAME_INDEX to TIMESTAMP\n",
    "    df[\"FRAME_INDEX\"] = pd.cut(df[\"TIMESTAMP\"], bins=frame_intervals, labels=frame_labels, include_lowest=True)\n",
    "\n",
    "    return df"
   ]
  },
  {
   "cell_type": "markdown",
   "metadata": {},
   "source": [
    "### CONVERT LABELED FRAMES TO DATAFRAME "
   ]
  },
  {
   "cell_type": "code",
   "execution_count": 6,
   "metadata": {},
   "outputs": [],
   "source": [
    "def dict_to_labeledframes(dict_list):\n",
    "    \n",
    "    df_label = pd.DataFrame(dict_list)\n",
    "\n",
    "    return df_label"
   ]
  },
  {
   "cell_type": "markdown",
   "metadata": {},
   "source": [
    "### MAKE A DICTIONARY FOR LABELS"
   ]
  },
  {
   "cell_type": "code",
   "execution_count": 7,
   "metadata": {},
   "outputs": [],
   "source": [
    "# Function that stores frame indices to a label\n",
    "def sort_frametolabels(df_label):\n",
    "\n",
    "    label_dict = {}\n",
    "    \n",
    "    for _, row in df_label.iterrows():\n",
    "        frame_indices = list(range(row[\"frame_start\"], row[\"frame_end\"] + 1))\n",
    "        label = row[\"label\"]\n",
    "\n",
    "\n",
    "        if label in label_dict:\n",
    "            label_dict[label].extend(frame_indices)\n",
    "        else:\n",
    "            label_dict[label] = frame_indices\n",
    "\n",
    "    return label_dict"
   ]
  },
  {
   "cell_type": "markdown",
   "metadata": {},
   "source": [
    "### ADD LABEL TO DATAFRAME"
   ]
  },
  {
   "cell_type": "code",
   "execution_count": 8,
   "metadata": {},
   "outputs": [],
   "source": [
    "# Function to assign labels\n",
    "def assign_label(frame_index, label_dict):\n",
    "    for label, frame_indices in label_dict.items():\n",
    "        if frame_index in frame_indices:\n",
    "            return label\n",
    "    return None  # For values not in the label_dict\n",
    "\n",
    "\n",
    "# Match LABEL to FRAME_INDEX\n",
    "def match_labeltoframe(df, label_dict):\n",
    "\n",
    "    if \"FRAME_INDEX\" not in df.columns:\n",
    "        raise ValueError(\"The dataframe must contain a 'FRAME_INDEX' column.\")\n",
    "\n",
    "    df[\"LABEL\"] = df[\"FRAME_INDEX\"].apply(lambda frame_index: assign_label(frame_index, label_dict))\n",
    "\n",
    "    return df"
   ]
  },
  {
   "cell_type": "markdown",
   "metadata": {},
   "source": [
    "### FUNCTION TO RUN EVERYTHING"
   ]
  },
  {
   "cell_type": "code",
   "execution_count": 9,
   "metadata": {},
   "outputs": [],
   "source": [
    "def runner(video_path, dataframe, dataframe_labeled_frames):\n",
    "\n",
    "    total_frames, frame_intervals = frametimes(video_path)\n",
    "    dataframe = add_frame_index(dataframe, total_frames, frame_intervals)\n",
    "    label_dict = sort_frametolabels(dataframe_labeled_frames)\n",
    "    dataframe = match_labeltoframe(dataframe, label_dict)\n",
    "    dataframe.dropna(subset=['FRAME_INDEX'], inplace=True) # Remove data outside video duration (before the first or after the last frame)\n",
    "\n",
    "    return dataframe"
   ]
  },
  {
   "cell_type": "code",
   "execution_count": null,
   "metadata": {},
   "outputs": [],
   "source": [
    "# Path to the video\n",
    "video_path = \"data/GH010041.MP4\"\n",
    "\n",
    "# Path to DataFrame\n",
    "dataframe_path = \"data/IMU_GH010041.csv\"\n",
    "dataframe = getIMU(dataframe_path)\n",
    "print(\"\")\n",
    "\n",
    "# Path to labeled DataFrame\n",
    "#dict_list = [{'label': 'opstappen', 'frame_start': 1, 'frame_end': 1550}, {'label': 'links', 'frame_start': 29225, 'frame_end': 29350}, {'label': 'rechtdoor', 'frame_start': 25416, 'frame_end': 25883}, {'label': 'links', 'frame_start': 25884, 'frame_end': 25937}, {'label': 'rechtdoor', 'frame_start': 28847, 'frame_end': 29224}, {'label': 'rechtdoor', 'frame_start': 28509, 'frame_end': 28728}, {'label': 'rechtdoor', 'frame_start': 29651, 'frame_end': 31357}, {'label': 'rechtdoor', 'frame_start': 1873, 'frame_end': 3765}, {'label': 'rechtdoor', 'frame_start': 7693, 'frame_end': 9644}, {'label': 'rechtdoor', 'frame_start': 5025, 'frame_end': 5993}, {'label': 'links', 'frame_start': 1767, 'frame_end': 1872}, {'label': 'rechtdoor', 'frame_start': 3898, 'frame_end': 4874}, {'label': 'rechts', 'frame_start': 26007, 'frame_end': 26052}, {'label': 'rechts', 'frame_start': 27293, 'frame_end': 27493}, {'label': 'rechts', 'frame_start': 17205, 'frame_end': 17352}, {'label': 'rechts', 'frame_start': 15396, 'frame_end': 15567}, {'label': 'rechts', 'frame_start': 9645, 'frame_end': 9735}, {'label': 'links', 'frame_start': 31358, 'frame_end': 31447}, {'label': 'rechts', 'frame_start': 10508, 'frame_end': 10667}]\n",
    "#dataframe_labeled_frames = dict_to_labeledframes(dict_list)\n",
    "#print(dataframe_labeled_frames)\n",
    "#print(\"\")\n",
    "\n",
    "# Path to labeled DataFrame\n",
    "labeled_dataframe_path = \"data\\GH010041_anonymized_labeled.csv\"\n",
    "dataframe_labeled_frames = getIMU(labeled_dataframe_path)\n",
    "print(dataframe_labeled_frames)\n",
    "print(\"\")\n",
    "\n",
    "dataframe = runner(video_path, dataframe, dataframe_labeled_frames)"
   ]
  },
  {
   "cell_type": "code",
   "execution_count": null,
   "metadata": {},
   "outputs": [],
   "source": [
    "display(dataframe.head(5095))\n",
    "display(dataframe.tail(1360))"
   ]
  },
  {
   "cell_type": "code",
   "execution_count": null,
   "metadata": {},
   "outputs": [],
   "source": [
    "display(dataframe.head(3940))"
   ]
  },
  {
   "cell_type": "code",
   "execution_count": 13,
   "metadata": {},
   "outputs": [],
   "source": [
    "path = 'data/labeled_GH010041.csv'\n",
    "dataframe.to_csv(path, index=False)"
   ]
  }
 ],
 "metadata": {
  "kernelspec": {
   "display_name": ".venv",
   "language": "python",
   "name": "python3"
  },
  "language_info": {
   "codemirror_mode": {
    "name": "ipython",
    "version": 3
   },
   "file_extension": ".py",
   "mimetype": "text/x-python",
   "name": "python",
   "nbconvert_exporter": "python",
   "pygments_lexer": "ipython3",
   "version": "3.12.8"
  }
 },
 "nbformat": 4,
 "nbformat_minor": 2
}
