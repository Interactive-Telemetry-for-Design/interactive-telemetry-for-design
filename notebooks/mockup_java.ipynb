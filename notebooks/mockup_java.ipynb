{
 "cells": [
  {
   "cell_type": "code",
   "execution_count": 31,
   "metadata": {},
   "outputs": [
    {
     "name": "stdout",
     "output_type": "stream",
     "text": [
      "[{'label': 'opstappen', 'frame_s': 1, 'frame_e': 1550}, {'label': 'links', 'frame_s': 29225, 'frame_e': 29350}, {'label': 'rechtdoor', 'frame_s': 25416, 'frame_e': 25883}, {'label': 'links', 'frame_s': 25884, 'frame_e': 25937}, {'label': 'rechtdoor', 'frame_s': 28847, 'frame_e': 29224}, {'label': 'rechtdoor', 'frame_s': 28509, 'frame_e': 28728}, {'label': 'rechtdoor', 'frame_s': 29651, 'frame_e': 31357}, {'label': 'rechtdoor', 'frame_s': 1873, 'frame_e': 3765}, {'label': 'rechtdoor', 'frame_s': 7693, 'frame_e': 9644}, {'label': 'rechtdoor', 'frame_s': 5025, 'frame_e': 5993}, {'label': 'links', 'frame_s': 1767, 'frame_e': 1872}, {'label': 'rechtdoor', 'frame_s': 3898, 'frame_e': 4874}, {'label': 'rechts', 'frame_s': 26007, 'frame_e': 26052}, {'label': 'rechts', 'frame_s': 27293, 'frame_e': 27493}, {'label': 'rechts', 'frame_s': 17205, 'frame_e': 17352}, {'label': 'rechts', 'frame_s': 15396, 'frame_e': 15567}, {'label': 'rechts', 'frame_s': 9645, 'frame_e': 9735}, {'label': 'links', 'frame_s': 31358, 'frame_e': 31447}, {'label': 'rechts', 'frame_s': 10508, 'frame_e': 10667}]\n"
     ]
    },
    {
     "name": "stderr",
     "output_type": "stream",
     "text": [
      "<>:4: SyntaxWarning: invalid escape sequence '\\p'\n",
      "<>:4: SyntaxWarning: invalid escape sequence '\\p'\n",
      "C:\\Users\\axelv\\AppData\\Local\\Temp\\ipykernel_20640\\1002514730.py:4: SyntaxWarning: invalid escape sequence '\\p'\n",
      "  df = pd.read_csv(\"C:\\projects\\interactive-telemetry-for-design\\data\\CSVs\\GH010041_javascript_output.csv\")\n"
     ]
    }
   ],
   "source": [
    "import pandas as pd\n",
    "\n",
    "# Load the CSV into a DataFrame\n",
    "df = pd.read_csv(\"C:\\projects\\interactive-telemetry-for-design\\data\\CSVs\\GH010041_javascript_output.csv\")\n",
    "\n",
    "# Randomly sample 10% of the rows\n",
    "df = df.iloc[:, 1:-1]\n",
    "opstappen = df.iloc[:1]\n",
    "df_sampled = df.sample(frac=0.4, random_state=42)  # Set random_state for reproducibility\n",
    "\n",
    "result_df = pd.concat([opstappen, df_sampled], ignore_index=True)\n",
    "\n",
    "# Convert DataFrame to a list of dictionaries with specified key order\n",
    "dict_list = [\n",
    "    {\"label\": row[\"label\"], \"frame_start\": row[\"frame_start\"], \"frame_end\": row[\"frame_end\"]}\n",
    "    for _, row in result_df.iterrows()\n",
    "]\n",
    "\n",
    "# Display the result\n",
    "print(dict_list)\n",
    "\n",
    "\n"
   ]
  }
 ],
 "metadata": {
  "kernelspec": {
   "display_name": ".venv",
   "language": "python",
   "name": "python3"
  },
  "language_info": {
   "codemirror_mode": {
    "name": "ipython",
    "version": 3
   },
   "file_extension": ".py",
   "mimetype": "text/x-python",
   "name": "python",
   "nbconvert_exporter": "python",
   "pygments_lexer": "ipython3",
   "version": "3.12.8"
  }
 },
 "nbformat": 4,
 "nbformat_minor": 2
}
