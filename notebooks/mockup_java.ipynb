{
 "cells": [
  {
   "cell_type": "code",
   "execution_count": null,
   "metadata": {},
   "outputs": [],
   "source": [
    "import pandas as pd\n",
    "\n",
    "# Load the CSV into a DataFrame\n",
    "df = pd.read_csv(\"C:\\projects\\interactive-telemetry-for-design\\data\\CSVs\\GH010041_javascript_output.csv\")\n",
    "\n",
    "# Randomly sample 10% of the rows\n",
    "df = df.iloc[:, 1:-1]\n",
    "opstappen = df.iloc[:1]\n",
    "df_sampled = df.sample(frac=0.4, random_state=42)  # Set random_state for reproducibility\n",
    "\n",
    "result_df = pd.concat([opstappen, df_sampled], ignore_index=True)\n",
    "\n",
    "# Convert DataFrame to a list of dictionaries with specified key order\n",
    "dict_list = [\n",
    "    {\"label\": row[\"label\"], \"frame_start\": row[\"frame_start\"], \"frame_end\": row[\"frame_end\"]}\n",
    "    for _, row in result_df.iterrows()\n",
    "]\n",
    "\n",
    "# # Display the result\n",
    "# print(dict_list)\n",
    "\n",
    "Ron = pd.DataFrame(dict_list)\n",
    "\n",
    "display(Ron)\n",
    "\n",
    "\n"
   ]
  }
 ],
 "metadata": {
  "kernelspec": {
   "display_name": ".venv",
   "language": "python",
   "name": "python3"
  },
  "language_info": {
   "codemirror_mode": {
    "name": "ipython",
    "version": 3
   },
   "file_extension": ".py",
   "mimetype": "text/x-python",
   "name": "python",
   "nbconvert_exporter": "python",
   "pygments_lexer": "ipython3",
   "version": "3.12.8"
  }
 },
 "nbformat": 4,
 "nbformat_minor": 2
}
