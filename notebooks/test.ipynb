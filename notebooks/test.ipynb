{
 "cells": [
  {
   "cell_type": "code",
   "execution_count": 14,
   "metadata": {},
   "outputs": [],
   "source": [
    "import pandas as pd\n",
    "\n",
    "predictions_df = pd.read_csv('prediction_df.csv')"
   ]
  },
  {
   "cell_type": "code",
   "execution_count": 15,
   "metadata": {},
   "outputs": [],
   "source": [
    "predictions = []\n",
    "\n",
    "for frame_index, group in predictions_df.groupby('FRAME_INDEX'):\n",
    "    predictions.append({\n",
    "        'frame_index': int(frame_index),\n",
    "        'label': group['LABEL'].value_counts().idxmax(),\n",
    "        'average_score': group['CONFIDENCE'].mean()\n",
    "    })"
   ]
  },
  {
   "cell_type": "code",
   "execution_count": null,
   "metadata": {},
   "outputs": [],
   "source": [
    "from pprint import pprint\n",
    "\n",
    "pprint(predictions)"
   ]
  },
  {
   "cell_type": "code",
   "execution_count": 18,
   "metadata": {},
   "outputs": [],
   "source": [
    "settings = {\n",
    "    \"from_scratch\": True,\n",
    "    \"overlap\": 0.50,\n",
    "    \"length\": 10,\n",
    "    \"epochs\": 5,\n",
    "    \"batch_size\": 8,\n",
    "    \"dropout\": 0.2,\n",
    "    \"dense_activation\": \"softmax\",\n",
    "    \"LSTM_activation\": \"tanh\",\n",
    "    \"LSTM_units\": 256,\n",
    "    \"optimizer\": \"adam\",\n",
    "    \"loss\": \"categorical_crossentropy\",\n",
    "    \"metrics\": [\"accuracy\"],\n",
    "    \"learning_rate\": 0.0001,\n",
    "    \"weight_decay\": None,\n",
    "    \"target_sequence_length\": None\n",
    "}"
   ]
  },
  {
   "cell_type": "code",
   "execution_count": null,
   "metadata": {},
   "outputs": [],
   "source": [
    "import pandas as pd\n",
    "import src.sequencing as sequencing\n",
    "\n",
    "df = pd.read_csv('labeled_df.csv')\n",
    "\n",
    "# make sequences from df\n",
    "sequences = sequencing.create_sequence(df, settings[\"overlap\"], settings[\"length\"], target_sequence_length=settings[\"target_sequence_length\"])\n",
    "settings[\"target_sequence_length\"] = sequences.shape[1]\n",
    "pprint(\"sequences\") # test\n",
    "pprint(sequences.shape) # test\n",
    "padded_sequences, padded_labels = sequencing.get_filtered_sequences_and_labels(sequences)\n",
    "all_sequences = sequencing.save_used_data(padded_sequences, padded_labels, stored_sequences)\n",
    "train_sequences, train_labels = all_sequences[:,:,0:6], all_sequences[:,:,6:]\n",
    "pprint(\"train_sequences\") # test\n",
    "pprint(train_sequences.shape) #test\n",
    "pprint(\"test_sequences\") # test\n",
    "pprint(train_labels.shape) #test"
   ]
  }
 ],
 "metadata": {
  "kernelspec": {
   "display_name": ".venv",
   "language": "python",
   "name": "python3"
  },
  "language_info": {
   "codemirror_mode": {
    "name": "ipython",
    "version": 3
   },
   "file_extension": ".py",
   "mimetype": "text/x-python",
   "name": "python",
   "nbconvert_exporter": "python",
   "pygments_lexer": "ipython3",
   "version": "3.12.8"
  }
 },
 "nbformat": 4,
 "nbformat_minor": 2
}
