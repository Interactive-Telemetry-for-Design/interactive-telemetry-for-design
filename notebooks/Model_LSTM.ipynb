{
 "cells": [
  {
   "cell_type": "code",
   "execution_count": null,
   "metadata": {},
   "outputs": [],
   "source": [
    "import numpy as np\n",
    "import pandas as pd\n",
    "import tensorflow as tf\n",
    "import src.model as modelfunc\n",
    "import src.sequencing as sequencing\n",
    "from config import config"
   ]
  },
  {
   "cell_type": "code",
   "execution_count": null,
   "metadata": {},
   "outputs": [],
   "source": [
    "print(\"TensorFlow Version:\", tf.__version__)\n",
    "print(\"Is TensorFlow built with CUDA?\", tf.test.is_built_with_cuda())\n",
    "print(\"Num GPUs Available:\", len(tf.config.list_physical_devices('GPU')))\n",
    "print(\"GPU Details:\", tf.config.list_physical_devices('GPU'))\n",
    "\n",
    "\n",
    "print(\"Num GPUs Available: \", len(tf.config.list_physical_devices('GPU')))\n",
    "if tf.config.list_physical_devices('GPU'):\n",
    "    print(\"Running on GPU\")\n",
    "else:\n",
    "    print(\"GPU not available. Running on CPU\")"
   ]
  },
  {
   "cell_type": "markdown",
   "metadata": {},
   "source": [
    "## parse GPMF"
   ]
  },
  {
   "cell_type": "code",
   "execution_count": null,
   "metadata": {},
   "outputs": [],
   "source": [
    "import telemetry_parser\n",
    "import pandas as pd\n",
    "\n",
    "def parse_telemetry(file_path):\n",
    "    # Convert PosixPath to string if necessary\n",
    "    tp = telemetry_parser.Parser(str(file_path))\n",
    "    print(f\"Camera: {tp.camera}, Model: {tp.model}\")\n",
    "    \n",
    "    # Extract and normalize telemetry data\n",
    "    data = tp.normalized_imu()\n",
    "    df = pd.DataFrame(data)\n",
    "    \n",
    "    # Expand and organize columns\n",
    "    df[['GYRO_x', 'GYRO_y', 'GYRO_z']] = pd.DataFrame(df['gyro'].tolist(), index=df.index)\n",
    "    df[['ACCL_x', 'ACCL_y', 'ACCL_z']] = pd.DataFrame(df['accl'].tolist(), index=df.index)\n",
    "    df.drop(columns=['gyro', 'accl'], inplace=True)\n",
    "    df = df[['timestamp_ms', 'GYRO_x', 'GYRO_y', 'GYRO_z', 'ACCL_x', 'ACCL_y', 'ACCL_z']]\n",
    "    \n",
    "    return df\n",
    "\n",
    "# Example usage\n",
    "df = parse_telemetry(config.DATA_DIR / \"cosmo_sample.MP4\")\n",
    "display(df)\n"
   ]
  },
  {
   "cell_type": "code",
   "execution_count": null,
   "metadata": {},
   "outputs": [],
   "source": [
    "df = pd.read_csv(config.DATA_DIR / \"test_imu_frameindex_label_data.csv\")  # Replace with your data file\n",
    "overlap = 0.0\n",
    "length = 10\n",
    "num_actions = 5  # Example number of actions\n",
    "df.dropna(inplace=True)\n",
    "\n",
    "display(df)\n",
    "\n",
    "# Convert LABEL to categorical and save mappings\n",
    "df[\"LABEL\"] = df[\"LABEL\"].astype(\"category\")\n",
    "label_mapping = dict(enumerate(df[\"LABEL\"].cat.categories))\n",
    "df[\"LABEL\"] = df[\"LABEL\"].cat.codes\n",
    "\n",
    "display(df)\n",
    "print(label_mapping)"
   ]
  },
  {
   "cell_type": "markdown",
   "metadata": {},
   "source": [
    "## Load data"
   ]
  },
  {
   "cell_type": "code",
   "execution_count": null,
   "metadata": {},
   "outputs": [],
   "source": [
    "# Preprocess data\n",
    "# padded_sequences, padded_labels = sequencing.get_sequences_and_labels(df, overlap, length, num_actions)\n",
    "sequences = sequencing.create_sequence(df, overlap, length)\n",
    "padded_sequences = sequencing.get_sequences_pure_data(sequences)\n",
    "padded_labels = sequencing.get_pure_labels(sequences)\n",
    "padded_labels = tf.one_hot(padded_labels, depth=5)"
   ]
  },
  {
   "cell_type": "code",
   "execution_count": null,
   "metadata": {},
   "outputs": [],
   "source": [
    "validating = True\n",
    "\n",
    "if validating:\n",
    "    train_size = int(0.5 * len(padded_sequences))\n",
    "    padded_sequences, X_val = padded_sequences[:train_size], padded_sequences[train_size:]\n",
    "    padded_labels, y_val = padded_labels[:train_size], padded_labels[train_size:]\n",
    "\n",
    "    print(\"Train shape:\", padded_sequences.shape, padded_labels.shape)\n",
    "    print(\"Validation shape:\", X_val.shape, y_val.shape)\n",
    "else:\n",
    "    X_val = None\n",
    "    y_val = None"
   ]
  },
  {
   "cell_type": "code",
   "execution_count": 11,
   "metadata": {},
   "outputs": [],
   "source": [
    "# Generate sample weights to ignore padded timesteps\n",
    "sample_weights = np.array([\n",
    "    [1 if np.any(timestep != 0) else 0 for timestep in sequence]\n",
    "    for sequence in padded_sequences\n",
    "])"
   ]
  },
  {
   "cell_type": "markdown",
   "metadata": {},
   "source": [
    "## Build Model"
   ]
  },
  {
   "cell_type": "code",
   "execution_count": null,
   "metadata": {},
   "outputs": [],
   "source": [
    "# Model parameters\n",
    "print(padded_sequences.shape)\n",
    "timesteps = padded_sequences.shape[1] # Variable-length sequences\n",
    "features = 6  # IMU features (e.g., ax, ay, az, gx, gy, gz)\n",
    "num_classes = 5  # Actions (e.g., left turn, right turn, stopping)\n",
    "print(timesteps)\n",
    "# Build the model\n",
    "model = modelfunc.build_seq2seq_lstm((timesteps, features), num_classes, dropout=0.4)\n",
    "model.summary()"
   ]
  },
  {
   "cell_type": "markdown",
   "metadata": {},
   "source": [
    "## Train Model"
   ]
  },
  {
   "cell_type": "code",
   "execution_count": null,
   "metadata": {},
   "outputs": [],
   "source": [
    "# _ = model.predict(X_train[:1])  # Perform a forward pass to initialize the model\n",
    "\n",
    "# # Build the model explicitly\n",
    "# model.build(input_shape=(None, timesteps, 6))  # Example: batch size = None, 50 timesteps, 6 features\n",
    "# model.make_train_function()\n",
    "# model.make_predict_function()"
   ]
  },
  {
   "cell_type": "code",
   "execution_count": null,
   "metadata": {},
   "outputs": [],
   "source": [
    "# # Example call to the function\n",
    "# history = modelfunc.train_model(\n",
    "#     model=model,  # Your pre-defined Keras model\n",
    "#     X_train=padded_sequences, \n",
    "#     y_train=padded_labels,\n",
    "#     sample_weight=sample_weights,  # Optional; pass None if not using sample weights\n",
    "#     batch_size=16,  # Optional; defaults to 16\n",
    "#     epochs=50       # Optional; defaults to 10\n",
    "# )\n",
    "\n",
    "# Example call to the function\n",
    "history = modelfunc.train_model(\n",
    "    model=model,  # Your pre-defined Keras model\n",
    "    X_train=X_train, \n",
    "    y_train=y_train,\n",
    "    X_val=X_val,\n",
    "    y_val=y_val,\n",
    "    sample_weight=sample_weights,  # Optional; pass None if not using sample weights\n",
    "    batch_size=16,  # Optional; defaults to 16\n",
    "    epochs=10       # Optional; defaults to 10\n",
    ")"
   ]
  },
  {
   "cell_type": "markdown",
   "metadata": {},
   "source": [
    "## Model prediction"
   ]
  },
  {
   "cell_type": "code",
   "execution_count": null,
   "metadata": {},
   "outputs": [],
   "source": [
    "# Make predictions\n",
    "predictions = model.predict(padded_sequences)\n",
    "\n",
    "# Get the confidence scores and the predicted classes\n",
    "confidence_scores = np.max(predictions, axis=-1)  # Maximum probability for each timestep\n",
    "predicted_classes = np.argmax(predictions, axis=-1)  # Class with the highest probability for each timestep\n",
    "\n",
    "# Print results\n",
    "print(\"Confidence scores shape:\", confidence_scores.shape)  # Same shape as the input sequence\n",
    "print(\"Predicted classes shape:\", predicted_classes.shape)\n",
    "print(predicted_classes)"
   ]
  }
 ],
 "metadata": {
  "kernelspec": {
   "display_name": "Python 3",
   "language": "python",
   "name": "python3"
  },
  "language_info": {
   "codemirror_mode": {
    "name": "ipython",
    "version": 3
   },
   "file_extension": ".py",
   "mimetype": "text/x-python",
   "name": "python",
   "nbconvert_exporter": "python",
   "pygments_lexer": "ipython3",
   "version": "3.12.8"
  }
 },
 "nbformat": 4,
 "nbformat_minor": 2
}
