{
 "cells": [
  {
   "cell_type": "code",
   "execution_count": null,
   "metadata": {},
   "outputs": [],
   "source": [
    "import numpy as np\n",
    "import pandas as pd\n",
    "import tensorflow as tf\n",
    "import src.model as modelfunc\n",
    "import src.sequencing as sequencing\n",
    "from config import config"
   ]
  },
  {
   "cell_type": "code",
   "execution_count": null,
   "metadata": {},
   "outputs": [],
   "source": [
    "# if gpus:\n",
    "#     try:\n",
    "#         for gpu in gpus:\n",
    "#             tf.config.experimental.set_memory_growth(gpu, True)  # Allow dynamic memory allocation\n",
    "#         print(\"GPU memory pre-allocated successfully\")\n",
    "#     except RuntimeError as e:\n",
    "#         print(e)\n",
    "\n",
    "print(\"TensorFlow Version:\", tf.__version__)\n",
    "print(\"Is TensorFlow built with CUDA?\", tf.test.is_built_with_cuda())\n",
    "print(\"Num GPUs Available:\", len(tf.config.list_physical_devices('GPU')))\n",
    "print(\"GPU Details:\", tf.config.list_physical_devices('GPU'))\n",
    "\n",
    "\n",
    "print(\"Num GPUs Available: \", len(tf.config.list_physical_devices('GPU')))\n",
    "if tf.config.list_physical_devices('GPU'):\n",
    "    print(\"Running on GPU\")\n",
    "else:\n",
    "    print(\"GPU not available. Running on CPU\")"
   ]
  },
  {
   "cell_type": "markdown",
   "metadata": {},
   "source": [
    "## parse GPMF"
   ]
  },
  {
   "cell_type": "code",
   "execution_count": null,
   "metadata": {},
   "outputs": [],
   "source": [
    "df = pd.read_csv(config.DATA_DIR / \"test_imu_frameindex_label_data.csv\")  # Replace with your data file\n",
    "overlap = 0.0\n",
    "length = 10\n",
    "num_actions = 5  # Example number of actions\n",
    "df.dropna(inplace=True)\n",
    "\n",
    "display(df)\n",
    "\n",
    "# Convert LABEL to categorical and save mappings\n",
    "df[\"LABEL\"] = df[\"LABEL\"].astype(\"category\")\n",
    "label_mapping = dict(enumerate(df[\"LABEL\"].cat.categories))\n",
    "df[\"LABEL\"] = df[\"LABEL\"].cat.codes\n",
    "\n",
    "display(df)\n",
    "print(label_mapping)"
   ]
  },
  {
   "cell_type": "markdown",
   "metadata": {},
   "source": [
    "## Load data"
   ]
  },
  {
   "cell_type": "code",
   "execution_count": null,
   "metadata": {},
   "outputs": [],
   "source": [
    "# Preprocess data\n",
    "# padded_sequences, padded_labels = sequencing.get_sequences_and_labels(df, overlap, length, num_actions)\n",
    "sequences = sequencing.create_sequence(df, overlap, length)\n",
    "padded_sequences = sequencing.get_sequences_pure_data(sequences)\n",
    "padded_labels = sequencing.get_pure_labels(sequences)\n",
    "padded_labels = tf.one_hot(padded_labels, depth=5)\n",
    "\n",
    "# # Build and train model\n",
    "# input_shape = (X_train.shape[1], X_train.shape[2])\n",
    "# model = build_seq2seq_lstm(input_shape, num_classes=num_actions)\n",
    "# history = train_model(model, X_train, y_train)"
   ]
  },
  {
   "cell_type": "code",
   "execution_count": 5,
   "metadata": {},
   "outputs": [],
   "source": [
    "# from tensorflow.keras.preprocessing.sequence import pad_sequences\n",
    "\n",
    "# # Model parameters\n",
    "# timesteps = None # Variable-length sequences\n",
    "# features = 6  # IMU features (e.g., ax, ay, az, gx, gy, gz)\n",
    "# num_classes = 5  # Actions (e.g., left turn, right turn, stopping)\n",
    "\n",
    "# # Simulated variable-length IMU data\n",
    "# sequences = [np.random.rand(np.random.randint(1000, 2000), features) for _ in range(100)]\n",
    "# labels = [np.random.randint(0, num_classes, len(seq)) for seq in sequences]  # One label per timestep\n",
    "# print(type(sequences))\n",
    "# # Pad sequences\n",
    "# padded_sequences = pad_sequences(sequences, padding='post', dtype='float32')\n",
    "# padded_labels = pad_sequences(labels, padding='post', dtype='int32')\n",
    "\n",
    "# # One-hot encode labels\n",
    "# padded_labels = tf.keras.utils.to_categorical(padded_labels, num_classes)\n",
    "\n",
    "# padded_sequences = padded_sequences.astype('float32')\n",
    "# padded_labels = padded_labels.astype('float32')\n",
    "\n",
    "# # Check shapes\n",
    "# print(\"Padded sequences shape:\", padded_sequences.shape)\n",
    "# print(\"Padded labels shape:\", padded_labels.shape)\n",
    "# print(\"Padded sequences dtype:\", padded_sequences.dtype)  # Should be float32\n",
    "# print(\"Padded labels dtype:\", padded_labels.dtype)        # Should be float32\n"
   ]
  },
  {
   "cell_type": "code",
   "execution_count": null,
   "metadata": {},
   "outputs": [],
   "source": [
    "# Split chronologically\n",
    "train_size = int(0.5 * len(padded_sequences))  # 80% for training, 20% for validation\n",
    "X_train, X_val = padded_sequences[:train_size], padded_sequences[train_size:]\n",
    "y_train, y_val = padded_labels[:train_size], padded_labels[train_size:]\n",
    "\n",
    "print(\"Train shape:\", X_train.shape, y_train.shape)\n",
    "print(\"Validation shape:\", X_val.shape, y_val.shape)"
   ]
  },
  {
   "cell_type": "code",
   "execution_count": 6,
   "metadata": {},
   "outputs": [],
   "source": [
    "# Generate sample weights to ignore padded timesteps\n",
    "sample_weights = np.array([\n",
    "    [1 if np.any(timestep != 0) else 0 for timestep in sequence]\n",
    "    for sequence in X_train\n",
    "])"
   ]
  },
  {
   "cell_type": "markdown",
   "metadata": {},
   "source": [
    "## Build Model"
   ]
  },
  {
   "cell_type": "code",
   "execution_count": null,
   "metadata": {},
   "outputs": [],
   "source": [
    "# Model parameters\n",
    "print(padded_sequences.shape)\n",
    "timesteps = padded_sequences.shape[1] # Variable-length sequences\n",
    "features = 6  # IMU features (e.g., ax, ay, az, gx, gy, gz)\n",
    "num_classes = 5  # Actions (e.g., left turn, right turn, stopping)\n",
    "print(timesteps)\n",
    "# Build the model\n",
    "model = modelfunc.build_seq2seq_lstm((timesteps, features), num_classes, dropout=0.4)\n",
    "model.summary()"
   ]
  },
  {
   "cell_type": "markdown",
   "metadata": {},
   "source": [
    "## Train Model"
   ]
  },
  {
   "cell_type": "code",
   "execution_count": null,
   "metadata": {},
   "outputs": [],
   "source": [
    "# _ = model.predict(X_train[:1])  # Perform a forward pass to initialize the model\n",
    "\n",
    "# Build the model explicitly\n",
    "model.build(input_shape=(None, timesteps, 6))  # Example: batch size = None, 50 timesteps, 6 features\n",
    "model.make_train_function()\n",
    "model.make_predict_function()"
   ]
  },
  {
   "cell_type": "code",
   "execution_count": null,
   "metadata": {},
   "outputs": [],
   "source": [
    "# # Example call to the function\n",
    "# history = modelfunc.train_model(\n",
    "#     model=model,  # Your pre-defined Keras model\n",
    "#     X_train=padded_sequences, \n",
    "#     y_train=padded_labels,\n",
    "#     sample_weight=sample_weights,  # Optional; pass None if not using sample weights\n",
    "#     batch_size=16,  # Optional; defaults to 16\n",
    "#     epochs=50       # Optional; defaults to 10\n",
    "# )\n",
    "\n",
    "# Example call to the function\n",
    "history = modelfunc.train_model(\n",
    "    model=model,  # Your pre-defined Keras model\n",
    "    X_train=X_train, \n",
    "    y_train=y_train,\n",
    "    X_val=X_val,\n",
    "    y_val=y_val,\n",
    "    sample_weight=sample_weights,  # Optional; pass None if not using sample weights\n",
    "    batch_size=16,  # Optional; defaults to 16\n",
    "    epochs=10       # Optional; defaults to 10\n",
    ")"
   ]
  },
  {
   "cell_type": "markdown",
   "metadata": {},
   "source": [
    "## Model prediction"
   ]
  },
  {
   "cell_type": "code",
   "execution_count": null,
   "metadata": {},
   "outputs": [],
   "source": [
    "# # Simulated test data\n",
    "# test_sequence = np.random.rand(80, features)  # Variable-length sequence\n",
    "# test_sequence_padded = pad_sequences([test_sequence], maxlen=padded_sequences.shape[1], padding='post')\n",
    "\n",
    "# Make predictions\n",
    "predictions = model.predict(padded_sequences)\n",
    "\n",
    "# Get the confidence scores and the predicted classes\n",
    "confidence_scores = np.max(predictions, axis=-1)  # Maximum probability for each timestep\n",
    "predicted_classes = np.argmax(predictions, axis=-1)  # Class with the highest probability for each timestep\n",
    "\n",
    "# Print results\n",
    "print(\"Confidence scores shape:\", confidence_scores.shape)  # Same shape as the input sequence\n",
    "print(\"Predicted classes shape:\", predicted_classes.shape)\n",
    "print(predicted_classes)\n",
    "# # Example: For a specific sequence\n",
    "# example_idx = 0  # Index of the sequence to inspect\n",
    "# print(f\"Sequence {example_idx}:\")\n",
    "# print(\"Predicted classes:\", predicted_classes[example_idx])\n",
    "# print(\"Confidence scores:\", confidence_scores[example_idx])"
   ]
  },
  {
   "cell_type": "code",
   "execution_count": null,
   "metadata": {},
   "outputs": [],
   "source": [
    "    history = model.fit(\n",
    "        X_train, y_train,\n",
    "        validation_data=(X_val, y_val),\n",
    "        epochs=10,\n",
    "        batch_size=16\n",
    "    )"
   ]
  }
 ],
 "metadata": {
  "kernelspec": {
   "display_name": ".venv",
   "language": "python",
   "name": "python3"
  },
  "language_info": {
   "codemirror_mode": {
    "name": "ipython",
    "version": 3
   },
   "file_extension": ".py",
   "mimetype": "text/x-python",
   "name": "python",
   "nbconvert_exporter": "python",
   "pygments_lexer": "ipython3",
   "version": "3.12.8"
  }
 },
 "nbformat": 4,
 "nbformat_minor": 2
}
