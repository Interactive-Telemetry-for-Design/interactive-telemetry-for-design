{
 "cells": [
  {
   "cell_type": "code",
   "execution_count": null,
   "metadata": {},
   "outputs": [],
   "source": [
    "import numpy as np\n",
    "import tensorflow as tf\n",
    "import src.model as modelfunc"
   ]
  },
  {
   "cell_type": "code",
   "execution_count": null,
   "metadata": {},
   "outputs": [],
   "source": [
    "print(\"TensorFlow Version:\", tf.__version__)\n",
    "print(\"Is TensorFlow built with CUDA?\", tf.test.is_built_with_cuda())\n",
    "print(\"Num GPUs Available:\", len(tf.config.list_physical_devices('GPU')))\n",
    "print(\"GPU Details:\", tf.config.list_physical_devices('GPU'))\n",
    "\n",
    "\n",
    "print(\"Num GPUs Available: \", len(tf.config.list_physical_devices('GPU')))\n",
    "if tf.config.list_physical_devices('GPU'):\n",
    "    print(\"Running on GPU\")\n",
    "else:\n",
    "    print(\"GPU not available. Running on CPU\")"
   ]
  },
  {
   "cell_type": "markdown",
   "metadata": {},
   "source": [
    "## Load data"
   ]
  },
  {
   "cell_type": "code",
   "execution_count": null,
   "metadata": {},
   "outputs": [],
   "source": [
    "from tensorflow.keras.preprocessing.sequence import pad_sequences\n",
    "\n",
    "# Model parameters\n",
    "timesteps = None # Variable-length sequences\n",
    "features = 6  # IMU features (e.g., ax, ay, az, gx, gy, gz)\n",
    "num_classes = 5  # Actions (e.g., left turn, right turn, stopping)\n",
    "\n",
    "# Simulated variable-length IMU data\n",
    "sequences = [np.random.rand(np.random.randint(1000, 2000), features) for _ in range(100)]\n",
    "labels = [np.random.randint(0, num_classes, len(seq)) for seq in sequences]  # One label per timestep\n",
    "\n",
    "# Pad sequences\n",
    "padded_sequences = pad_sequences(sequences, padding='post', dtype='float32')\n",
    "padded_labels = pad_sequences(labels, padding='post', dtype='int32')\n",
    "\n",
    "# One-hot encode labels\n",
    "padded_labels = tf.keras.utils.to_categorical(padded_labels, num_classes)\n",
    "\n",
    "padded_sequences = padded_sequences.astype('float32')\n",
    "padded_labels = padded_labels.astype('float32')\n",
    "\n",
    "# Check shapes\n",
    "print(\"Padded sequences shape:\", padded_sequences.shape)\n",
    "print(\"Padded labels shape:\", padded_labels.shape)\n",
    "print(\"Padded sequences dtype:\", padded_sequences.dtype)  # Should be float32\n",
    "print(\"Padded labels dtype:\", padded_labels.dtype)        # Should be float32\n"
   ]
  },
  {
   "cell_type": "code",
   "execution_count": 4,
   "metadata": {},
   "outputs": [],
   "source": [
    "# Generate sample weights to ignore padded timesteps\n",
    "sample_weights = np.array([\n",
    "    [1 if np.any(timestep != 0) else 0 for timestep in sequence]\n",
    "    for sequence in padded_sequences\n",
    "])"
   ]
  },
  {
   "cell_type": "markdown",
   "metadata": {},
   "source": [
    "## Build Model"
   ]
  },
  {
   "cell_type": "code",
   "execution_count": null,
   "metadata": {},
   "outputs": [],
   "source": [
    "# Model parameters\n",
    "timesteps = None # Variable-length sequences\n",
    "features = 6  # IMU features (e.g., ax, ay, az, gx, gy, gz)\n",
    "num_classes = 5  # Actions (e.g., left turn, right turn, stopping)\n",
    "\n",
    "# Build the model\n",
    "model = modelfunc.build_seq2seq_lstm((timesteps, features), num_classes)\n",
    "model.summary()"
   ]
  },
  {
   "cell_type": "markdown",
   "metadata": {},
   "source": [
    "## Train Model"
   ]
  },
  {
   "cell_type": "code",
   "execution_count": null,
   "metadata": {},
   "outputs": [],
   "source": [
    "# Example call to the function\n",
    "history = modelfunc.train_model(\n",
    "    model=model,  # Your pre-defined Keras model\n",
    "    X_train=padded_sequences, \n",
    "    y_train=padded_labels,\n",
    "    sample_weight=sample_weights,  # Optional; pass None if not using sample weights\n",
    "    batch_size=16,  # Optional; defaults to 16\n",
    "    epochs=10       # Optional; defaults to 10\n",
    ")\n"
   ]
  },
  {
   "cell_type": "markdown",
   "metadata": {},
   "source": [
    "## Model prediction"
   ]
  },
  {
   "cell_type": "code",
   "execution_count": null,
   "metadata": {},
   "outputs": [],
   "source": [
    "# Simulated test data\n",
    "test_sequence = np.random.rand(80, features)  # Variable-length sequence\n",
    "test_sequence_padded = pad_sequences([test_sequence], maxlen=padded_sequences.shape[1], padding='post')\n",
    "\n",
    "# Make predictions\n",
    "predictions = model.predict(test_sequence_padded)\n",
    "\n",
    "# Get the confidence scores and the predicted classes\n",
    "confidence_scores = np.max(predictions, axis=-1)  # Maximum probability for each timestep\n",
    "predicted_classes = np.argmax(predictions, axis=-1)  # Class with the highest probability for each timestep\n",
    "\n",
    "# Print results\n",
    "print(\"Confidence scores shape:\", confidence_scores.shape)  # Same shape as the input sequence\n",
    "print(\"Predicted classes shape:\", predicted_classes.shape)\n",
    "\n",
    "# Example: For a specific sequence\n",
    "example_idx = 0  # Index of the sequence to inspect\n",
    "print(f\"Sequence {example_idx}:\")\n",
    "print(\"Predicted classes:\", predicted_classes[example_idx])\n",
    "print(\"Confidence scores:\", confidence_scores[example_idx])"
   ]
  }
 ],
 "metadata": {
  "kernelspec": {
   "display_name": ".venv",
   "language": "python",
   "name": "python3"
  },
  "language_info": {
   "codemirror_mode": {
    "name": "ipython",
    "version": 3
   },
   "file_extension": ".py",
   "mimetype": "text/x-python",
   "name": "python",
   "nbconvert_exporter": "python",
   "pygments_lexer": "ipython3",
   "version": "3.12.8"
  }
 },
 "nbformat": 4,
 "nbformat_minor": 2
}
