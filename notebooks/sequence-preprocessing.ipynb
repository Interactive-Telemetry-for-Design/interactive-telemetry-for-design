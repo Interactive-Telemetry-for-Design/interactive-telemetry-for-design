{
 "cells": [
  {
   "cell_type": "markdown",
   "metadata": {},
   "source": [
    "### Sequence pre-processing"
   ]
  },
  {
   "cell_type": "markdown",
   "metadata": {},
   "source": [
    "This notebook will have a csv containing the six input streams, gyro and acc in the three axis. Output will be a tensor from tensorflow which is 6xY where Y will be the selected length of the sequence. The model we use can only use selected data timeframes as input and this notebook aims to prepare the CSV for this use. \n",
    "This notebook has two parameters; overlap, a float between 0 and 1 which indicates the overlap between two time frames. The second is length, this is an integer which contains the desired length of the sequence.  "
   ]
  },
  {
   "cell_type": "code",
   "execution_count": 24,
   "metadata": {},
   "outputs": [],
   "source": [
    "from pathlib import Path\n",
    "from config import config\n",
    "import pandas as pd\n",
    "import numpy as np\n",
    "import tensorflow as tf\n",
    "from tensorflow.keras.preprocessing.sequence import pad_sequences"
   ]
  },
  {
   "cell_type": "code",
   "execution_count": 65,
   "metadata": {},
   "outputs": [],
   "source": [
    "\n",
    "def create_sequence(metadata_csv_path: Path, overlap: float, length: int) -> list[tf.Tensor]:\n",
    "    \"\"\"\n",
    "    Create a sequence of tensors from the input CSV based on time partitions.\n",
    "\n",
    "    Args:\n",
    "        metadata_csv_path: Path to the metadata CSV file.\n",
    "        overlap: Fraction of overlap between partitions (0 <= overlap <= 1).\n",
    "        length: Length of each sequence in seconds.\n",
    "\n",
    "    Returns:\n",
    "        A list of tensors containing the partitioned sequences.\n",
    "    \"\"\"\n",
    "    length_microsec = length * 1000000\n",
    "    overlap = 1-overlap\n",
    "    df = pd.read_csv(config.DATA_DIR / 'CSVs' / 'GH010038-ACC&GYRO.csv', skiprows=1)\n",
    "    if length_microsec > df['time'].max():\n",
    "        raise ValueError('Given length is longer than inputted video')\n",
    "    if not 0 <= overlap <= 1:\n",
    "        raise ValueError('Overlap must be between 0 and 1')\n",
    "    \n",
    "    # \n",
    "    # Call CSV Preprocessing\n",
    "    #\n",
    "\n",
    "    tensors = []\n",
    "\n",
    "    min_time = df['time'].min()\n",
    "    max_time = df['time'].max()\n",
    "    start = 0\n",
    "\n",
    "    # Partitioning the dataframe\n",
    "    while start <= max_time:\n",
    "        end = start + length_microsec\n",
    "        partition = df[(df['time'] >= start) & (df['time'] < end)].iloc[:, 2:]\n",
    "        tensors.append(tf.convert_to_tensor(partition, dtype=tf.float32))\n",
    "        if start + length_microsec > max_time:\n",
    "            break\n",
    "        start += length_microsec*overlap\n",
    "\n",
    "\n",
    "    return pad_sequences(tensors,padding='post',dtype='float32')\n",
    "\n",
    "def create_empty_tensor_list(sequence_list: list[tf.Tensor], num_actions: int) -> list[tf.Tensor]:\n",
    "    \"\"\"\n",
    "    Create a list of empty tensors with a given shape for labels.\n",
    "\n",
    "    Args:\n",
    "        sequence_list: List of sequence tensors.\n",
    "        num_actions: Number of actions (columns) in the label tensors.\n",
    "\n",
    "    Returns:\n",
    "        A list of label tensors with the same length as the sequence list.\n",
    "    \"\"\"\n",
    "    num_tensors = len(sequence_list)\n",
    "    num_data_points = len(sequence_list[0])\n",
    "    \n",
    "    label_list = [tf.zeros((num_data_points, num_actions), dtype=tf.int32) for _ in range(num_tensors)]\n",
    "    \n",
    "    return label_list\n",
    "\n",
    "def get_sequences_and_labels(metadata_csv_path: Path, overlap: float, length: int, num_actions: int) -> tuple[list[tf.Tensor], list[tf.Tensor]]:\n",
    "    \"\"\"\n",
    "    Generate sequences and corresponding labels based on the input data.\n",
    "\n",
    "    Args:\n",
    "        metadata_csv_path: Path to the metadata CSV file.\n",
    "        overlap: Fraction of overlap between partitions (0 <= overlap <= 1).\n",
    "        length: Length of each sequence in seconds.\n",
    "        num_actions: Number of actions (columns) in the label tensors.\n",
    "\n",
    "    Returns:\n",
    "        A tuple of sequences (list of tensors) and labels (list of tensors).\n",
    "    \"\"\"\n",
    "    sequences = create_sequence(metadata_csv_path, overlap, length)\n",
    "    labels = create_empty_tensor_list(sequences, num_actions)\n",
    "    return sequences, labels\n",
    "    "
   ]
  },
  {
   "cell_type": "code",
   "execution_count": null,
   "metadata": {},
   "outputs": [],
   "source": [
    "s, l = get_sequences_and_labels(config.DATA_DIR / 'CSVs' / 'GH010038-ACC&GYRO.csv', 0.3, 10, 5)\n",
    "display(s)\n",
    "display(l)\n",
    "\n"
   ]
  }
 ],
 "metadata": {
  "kernelspec": {
   "display_name": ".venv",
   "language": "python",
   "name": "python3"
  },
  "language_info": {
   "codemirror_mode": {
    "name": "ipython",
    "version": 3
   },
   "file_extension": ".py",
   "mimetype": "text/x-python",
   "name": "python",
   "nbconvert_exporter": "python",
   "pygments_lexer": "ipython3",
   "version": "3.12.8"
  }
 },
 "nbformat": 4,
 "nbformat_minor": 2
}
