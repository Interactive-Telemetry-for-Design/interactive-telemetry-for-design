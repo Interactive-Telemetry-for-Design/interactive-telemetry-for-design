{
 "cells": [
  {
   "cell_type": "markdown",
   "metadata": {},
   "source": [
    "### Sequence pre-processing"
   ]
  },
  {
   "cell_type": "markdown",
   "metadata": {},
   "source": [
    "This notebook will have a csv containing the six input streams, gyro and acc in the three axis. Output will be a tensor from tensorflow which is 6xY where Y will be the selected length of the sequence. The model we use can only use selected data timeframes as input and this notebook aims to prepare the CSV for this use. \n",
    "This notebook has two parameters; overlap, a float between 0 and 1 which indicates the overlap between two time frames. The second is length, this is an integer which contains the desired length of the sequence.  "
   ]
  },
  {
   "cell_type": "code",
   "execution_count": null,
   "metadata": {},
   "outputs": [],
   "source": [
    "from pathlib import Path\n",
    "from config import config\n",
    "import pandas as pd\n",
    "import numpy as np\n",
    "import tensorflow as tf"
   ]
  },
  {
   "cell_type": "code",
   "execution_count": null,
   "metadata": {},
   "outputs": [],
   "source": [
    "def pad_with_zeros(df, rows_to_pad):\n",
    "    padding = pd.DataFrame(0, index=range(rows_to_pad), columns=df.columns)\n",
    "    # Concatenate the original DataFrame with the padding\n",
    "    df = pd.concat([df, padding], ignore_index=True)\n",
    "    return df\n",
    "\n",
    "def create_sequence(metadata_csv_path: Path, overlap: float, length: int):\n",
    "    data_points = length * 200 # GoPro Max 360 has a sample speed of 200/s\n",
    "    overlap = 1-overlap\n",
    "    df = pd.read_csv(config.DATA_DIR / 'CSVs' / 'GH010038-ACC&GYRO.csv', skiprows=1)\n",
    "    df.iloc[:, 2:]\n",
    "    display(df)\n",
    "    if data_points > len(df):\n",
    "        raise ValueError('Given length is longer than inputted video')\n",
    "    if not 0 <= overlap <= 1:\n",
    "        raise ValueError('Overlap must be between 0 and 1')\n",
    "    \n",
    "    # \n",
    "    # Call CSV Preprocessing\n",
    "    #\n",
    "\n",
    "    tensors = []\n",
    "\n",
    "    while True:\n",
    "        if data_points >= len(df):\n",
    "            rows_to_pad = data_points - len(df)\n",
    "            df = pad_with_zeros(df, rows_to_pad)\n",
    "            numpy_array = df.to_numpy()\n",
    "            tensor = tf.convert_to_tensor(numpy_array, dtype=tf.float32)\n",
    "            tensors.append(tensor)\n",
    "            break\n",
    "        \n",
    "        data = df.head(data_points).to_numpy()\n",
    "        tensor = tf.convert_to_tensor(data, dtype=tf.float32)\n",
    "        tensors.append(tensor)\n",
    "\n",
    "        num_rows_no_overlap = int(round(overlap * data_points))\n",
    "        df = df.iloc[num_rows_no_overlap:]\n",
    "\n",
    "    return tensors\n",
    "\n",
    "    "
   ]
  },
  {
   "cell_type": "code",
   "execution_count": null,
   "metadata": {},
   "outputs": [],
   "source": [
    "t = create_sequence(config.DATA_DIR / 'CSVs' / 'GH010038-ACC&GYRO.csv', 0, 10)\n",
    "display(t)\n"
   ]
  }
 ],
 "metadata": {
  "kernelspec": {
   "display_name": ".venv",
   "language": "python",
   "name": "python3"
  },
  "language_info": {
   "codemirror_mode": {
    "name": "ipython",
    "version": 3
   },
   "file_extension": ".py",
   "mimetype": "text/x-python",
   "name": "python",
   "nbconvert_exporter": "python",
   "pygments_lexer": "ipython3",
   "version": "3.12.8"
  }
 },
 "nbformat": 4,
 "nbformat_minor": 2
}
